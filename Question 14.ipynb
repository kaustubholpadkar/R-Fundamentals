{
 "cells": [
  {
   "cell_type": "markdown",
   "metadata": {},
   "source": [
    "## Assignment 1"
   ]
  },
  {
   "cell_type": "markdown",
   "metadata": {},
   "source": [
    "### Question 14"
   ]
  },
  {
   "cell_type": "markdown",
   "metadata": {},
   "source": [
    "#### Create the following matrix B with 15 rows:\n",
    "#### Calculate the 3 x 3 matrix BTB. (Look at the help for crossprod.)"
   ]
  },
  {
   "cell_type": "code",
   "execution_count": 1,
   "metadata": {},
   "outputs": [],
   "source": [
    "B = matrix(c(rep(10, 15), rep(-10, 15), rep(10, 15)),nrow = 15, ncol = 3)"
   ]
  },
  {
   "cell_type": "code",
   "execution_count": 2,
   "metadata": {},
   "outputs": [
    {
     "data": {
      "text/html": [
       "<table>\n",
       "<tbody>\n",
       "\t<tr><td>10 </td><td>-10</td><td>10 </td></tr>\n",
       "\t<tr><td>10 </td><td>-10</td><td>10 </td></tr>\n",
       "\t<tr><td>10 </td><td>-10</td><td>10 </td></tr>\n",
       "\t<tr><td>10 </td><td>-10</td><td>10 </td></tr>\n",
       "\t<tr><td>10 </td><td>-10</td><td>10 </td></tr>\n",
       "\t<tr><td>10 </td><td>-10</td><td>10 </td></tr>\n",
       "\t<tr><td>10 </td><td>-10</td><td>10 </td></tr>\n",
       "\t<tr><td>10 </td><td>-10</td><td>10 </td></tr>\n",
       "\t<tr><td>10 </td><td>-10</td><td>10 </td></tr>\n",
       "\t<tr><td>10 </td><td>-10</td><td>10 </td></tr>\n",
       "\t<tr><td>10 </td><td>-10</td><td>10 </td></tr>\n",
       "\t<tr><td>10 </td><td>-10</td><td>10 </td></tr>\n",
       "\t<tr><td>10 </td><td>-10</td><td>10 </td></tr>\n",
       "\t<tr><td>10 </td><td>-10</td><td>10 </td></tr>\n",
       "\t<tr><td>10 </td><td>-10</td><td>10 </td></tr>\n",
       "</tbody>\n",
       "</table>\n"
      ],
      "text/latex": [
       "\\begin{tabular}{lll}\n",
       "\t 10  & -10 & 10 \\\\\n",
       "\t 10  & -10 & 10 \\\\\n",
       "\t 10  & -10 & 10 \\\\\n",
       "\t 10  & -10 & 10 \\\\\n",
       "\t 10  & -10 & 10 \\\\\n",
       "\t 10  & -10 & 10 \\\\\n",
       "\t 10  & -10 & 10 \\\\\n",
       "\t 10  & -10 & 10 \\\\\n",
       "\t 10  & -10 & 10 \\\\\n",
       "\t 10  & -10 & 10 \\\\\n",
       "\t 10  & -10 & 10 \\\\\n",
       "\t 10  & -10 & 10 \\\\\n",
       "\t 10  & -10 & 10 \\\\\n",
       "\t 10  & -10 & 10 \\\\\n",
       "\t 10  & -10 & 10 \\\\\n",
       "\\end{tabular}\n"
      ],
      "text/markdown": [
       "\n",
       "| 10  | -10 | 10  | \n",
       "| 10  | -10 | 10  | \n",
       "| 10  | -10 | 10  | \n",
       "| 10  | -10 | 10  | \n",
       "| 10  | -10 | 10  | \n",
       "| 10  | -10 | 10  | \n",
       "| 10  | -10 | 10  | \n",
       "| 10  | -10 | 10  | \n",
       "| 10  | -10 | 10  | \n",
       "| 10  | -10 | 10  | \n",
       "| 10  | -10 | 10  | \n",
       "| 10  | -10 | 10  | \n",
       "| 10  | -10 | 10  | \n",
       "| 10  | -10 | 10  | \n",
       "| 10  | -10 | 10  | \n",
       "\n",
       "\n"
      ],
      "text/plain": [
       "      [,1] [,2] [,3]\n",
       " [1,] 10   -10  10  \n",
       " [2,] 10   -10  10  \n",
       " [3,] 10   -10  10  \n",
       " [4,] 10   -10  10  \n",
       " [5,] 10   -10  10  \n",
       " [6,] 10   -10  10  \n",
       " [7,] 10   -10  10  \n",
       " [8,] 10   -10  10  \n",
       " [9,] 10   -10  10  \n",
       "[10,] 10   -10  10  \n",
       "[11,] 10   -10  10  \n",
       "[12,] 10   -10  10  \n",
       "[13,] 10   -10  10  \n",
       "[14,] 10   -10  10  \n",
       "[15,] 10   -10  10  "
      ]
     },
     "metadata": {},
     "output_type": "display_data"
    }
   ],
   "source": [
    "B"
   ]
  },
  {
   "cell_type": "code",
   "execution_count": 3,
   "metadata": {},
   "outputs": [
    {
     "data": {
      "text/html": [
       "<table>\n",
       "<tbody>\n",
       "\t<tr><td> 10</td><td> 10</td><td> 10</td><td> 10</td><td> 10</td><td> 10</td><td> 10</td><td> 10</td><td> 10</td><td> 10</td><td> 10</td><td> 10</td><td> 10</td><td> 10</td><td> 10</td></tr>\n",
       "\t<tr><td>-10</td><td>-10</td><td>-10</td><td>-10</td><td>-10</td><td>-10</td><td>-10</td><td>-10</td><td>-10</td><td>-10</td><td>-10</td><td>-10</td><td>-10</td><td>-10</td><td>-10</td></tr>\n",
       "\t<tr><td> 10</td><td> 10</td><td> 10</td><td> 10</td><td> 10</td><td> 10</td><td> 10</td><td> 10</td><td> 10</td><td> 10</td><td> 10</td><td> 10</td><td> 10</td><td> 10</td><td> 10</td></tr>\n",
       "</tbody>\n",
       "</table>\n"
      ],
      "text/latex": [
       "\\begin{tabular}{lllllllllllllll}\n",
       "\t  10 &  10 &  10 &  10 &  10 &  10 &  10 &  10 &  10 &  10 &  10 &  10 &  10 &  10 &  10\\\\\n",
       "\t -10 & -10 & -10 & -10 & -10 & -10 & -10 & -10 & -10 & -10 & -10 & -10 & -10 & -10 & -10\\\\\n",
       "\t  10 &  10 &  10 &  10 &  10 &  10 &  10 &  10 &  10 &  10 &  10 &  10 &  10 &  10 &  10\\\\\n",
       "\\end{tabular}\n"
      ],
      "text/markdown": [
       "\n",
       "|  10 |  10 |  10 |  10 |  10 |  10 |  10 |  10 |  10 |  10 |  10 |  10 |  10 |  10 |  10 | \n",
       "| -10 | -10 | -10 | -10 | -10 | -10 | -10 | -10 | -10 | -10 | -10 | -10 | -10 | -10 | -10 | \n",
       "|  10 |  10 |  10 |  10 |  10 |  10 |  10 |  10 |  10 |  10 |  10 |  10 |  10 |  10 |  10 | \n",
       "\n",
       "\n"
      ],
      "text/plain": [
       "     [,1] [,2] [,3] [,4] [,5] [,6] [,7] [,8] [,9] [,10] [,11] [,12] [,13] [,14]\n",
       "[1,]  10   10   10   10   10   10   10   10   10   10    10    10    10    10  \n",
       "[2,] -10  -10  -10  -10  -10  -10  -10  -10  -10  -10   -10   -10   -10   -10  \n",
       "[3,]  10   10   10   10   10   10   10   10   10   10    10    10    10    10  \n",
       "     [,15]\n",
       "[1,]  10  \n",
       "[2,] -10  \n",
       "[3,]  10  "
      ]
     },
     "metadata": {},
     "output_type": "display_data"
    }
   ],
   "source": [
    "# transpose of matrix\n",
    "\n",
    "t(B)"
   ]
  },
  {
   "cell_type": "code",
   "execution_count": 4,
   "metadata": {},
   "outputs": [],
   "source": [
    "# BTB matrix\n",
    "\n",
    "BTB = t(B) %*% B"
   ]
  },
  {
   "cell_type": "code",
   "execution_count": 5,
   "metadata": {},
   "outputs": [
    {
     "data": {
      "text/html": [
       "<table>\n",
       "<tbody>\n",
       "\t<tr><td> 1500</td><td>-1500</td><td> 1500</td></tr>\n",
       "\t<tr><td>-1500</td><td> 1500</td><td>-1500</td></tr>\n",
       "\t<tr><td> 1500</td><td>-1500</td><td> 1500</td></tr>\n",
       "</tbody>\n",
       "</table>\n"
      ],
      "text/latex": [
       "\\begin{tabular}{lll}\n",
       "\t  1500 & -1500 &  1500\\\\\n",
       "\t -1500 &  1500 & -1500\\\\\n",
       "\t  1500 & -1500 &  1500\\\\\n",
       "\\end{tabular}\n"
      ],
      "text/markdown": [
       "\n",
       "|  1500 | -1500 |  1500 | \n",
       "| -1500 |  1500 | -1500 | \n",
       "|  1500 | -1500 |  1500 | \n",
       "\n",
       "\n"
      ],
      "text/plain": [
       "     [,1]  [,2]  [,3] \n",
       "[1,]  1500 -1500  1500\n",
       "[2,] -1500  1500 -1500\n",
       "[3,]  1500 -1500  1500"
      ]
     },
     "metadata": {},
     "output_type": "display_data"
    }
   ],
   "source": [
    "BTB"
   ]
  },
  {
   "cell_type": "code",
   "execution_count": null,
   "metadata": {},
   "outputs": [],
   "source": []
  }
 ],
 "metadata": {
  "kernelspec": {
   "display_name": "R",
   "language": "R",
   "name": "ir"
  },
  "language_info": {
   "codemirror_mode": "r",
   "file_extension": ".r",
   "mimetype": "text/x-r-source",
   "name": "R",
   "pygments_lexer": "r",
   "version": "3.2.3"
  }
 },
 "nbformat": 4,
 "nbformat_minor": 2
}
