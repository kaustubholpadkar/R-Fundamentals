{
 "cells": [
  {
   "cell_type": "markdown",
   "metadata": {},
   "source": [
    "## Asignment 1"
   ]
  },
  {
   "cell_type": "markdown",
   "metadata": {},
   "source": [
    "### Question 1"
   ]
  },
  {
   "cell_type": "markdown",
   "metadata": {},
   "source": [
    "#### In a given application, we have information about the ages of a set of 12 people. \n",
    "#### Their values are 12, 30, 24, 10, 10, 23, 43, 67, 79, 34, 56, 51."
   ]
  },
  {
   "cell_type": "markdown",
   "metadata": {},
   "source": [
    "### a) What is the median of these ages? Explain."
   ]
  },
  {
   "cell_type": "code",
   "execution_count": 1,
   "metadata": {},
   "outputs": [],
   "source": [
    "# Create the Vector of Ages\n",
    "\n",
    "ages = c(12, 30, 24, 10, 10, 23, 43, 67, 79, 34, 56, 51)"
   ]
  },
  {
   "cell_type": "code",
   "execution_count": 2,
   "metadata": {},
   "outputs": [
    {
     "name": "stdout",
     "output_type": "stream",
     "text": [
      "[1] \"Median of Ages :\"\n",
      "[1] 32\n"
     ]
    }
   ],
   "source": [
    "# Median Function\n",
    "\n",
    "median_ages = median(ages)\n",
    "print(\"Median of Ages :\")\n",
    "print(median_ages)"
   ]
  },
  {
   "cell_type": "markdown",
   "metadata": {},
   "source": [
    "### b) What is the mode of these ages? Explain."
   ]
  },
  {
   "cell_type": "code",
   "execution_count": 3,
   "metadata": {},
   "outputs": [],
   "source": [
    "# Create Mode Function\n",
    "\n",
    "mode <- function(x) {\n",
    "  ux <- unique(x)\n",
    "  ux[which.max(tabulate(match(x, ux)))]\n",
    "}"
   ]
  },
  {
   "cell_type": "code",
   "execution_count": 4,
   "metadata": {},
   "outputs": [
    {
     "name": "stdout",
     "output_type": "stream",
     "text": [
      "[1] \"Mode of Ages :\"\n",
      "[1] 10\n"
     ]
    }
   ],
   "source": [
    "mode_ages = mode(ages)\n",
    "print(\"Mode of Ages :\")\n",
    "print(mode_ages)"
   ]
  },
  {
   "cell_type": "markdown",
   "metadata": {},
   "source": [
    "### c) What are the results of normalizing and standardizing these data?"
   ]
  },
  {
   "cell_type": "code",
   "execution_count": 5,
   "metadata": {},
   "outputs": [],
   "source": [
    "# Create min-max normalization Function and standardization\n",
    "\n",
    "min_max_normalize = function(x) {\n",
    "    normalized_ages = (x - min(x)) / (max(x) - min(x))\n",
    "    return(normalized_ages)\n",
    "}"
   ]
  },
  {
   "cell_type": "code",
   "execution_count": 6,
   "metadata": {},
   "outputs": [
    {
     "name": "stdout",
     "output_type": "stream",
     "text": [
      "[1] \"Normalized of Ages :\"\n",
      " [1] 0.02898551 0.28985507 0.20289855 0.00000000 0.00000000 0.18840580\n",
      " [7] 0.47826087 0.82608696 1.00000000 0.34782609 0.66666667 0.59420290\n"
     ]
    }
   ],
   "source": [
    "min_max_normalized_ages = min_max_normalize(ages)\n",
    "print(\"Normalized of Ages :\")\n",
    "print(min_max_normalized_ages)"
   ]
  },
  {
   "cell_type": "code",
   "execution_count": 7,
   "metadata": {},
   "outputs": [],
   "source": [
    "# Create z-score normalization Function\n",
    "\n",
    "z_score_normalize = function(x) {\n",
    "    normalized_ages = (x - mean(x)) / (sd(x))\n",
    "    return(normalized_ages)\n",
    "}"
   ]
  },
  {
   "cell_type": "code",
   "execution_count": 8,
   "metadata": {},
   "outputs": [
    {
     "name": "stdout",
     "output_type": "stream",
     "text": [
      "[1] \"Normalized of Ages :\"\n",
      " [1] -1.0742153 -0.2876712 -0.5498526 -1.1616090 -1.1616090 -0.5935494\n",
      " [7]  0.2803884  1.3291138  1.8534765 -0.1128836  0.8484480  0.6299635\n"
     ]
    }
   ],
   "source": [
    "z_score_normalized_ages = z_score_normalize(ages)\n",
    "print(\"Normalized of Ages :\")\n",
    "print(z_score_normalized_ages)"
   ]
  },
  {
   "cell_type": "code",
   "execution_count": null,
   "metadata": {},
   "outputs": [],
   "source": []
  }
 ],
 "metadata": {
  "kernelspec": {
   "display_name": "R",
   "language": "R",
   "name": "ir"
  },
  "language_info": {
   "codemirror_mode": "r",
   "file_extension": ".r",
   "mimetype": "text/x-r-source",
   "name": "R",
   "pygments_lexer": "r",
   "version": "3.2.3"
  }
 },
 "nbformat": 4,
 "nbformat_minor": 2
}
