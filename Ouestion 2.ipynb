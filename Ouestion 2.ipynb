{
 "cells": [
  {
   "cell_type": "markdown",
   "metadata": {},
   "source": [
    "## Asignment 1"
   ]
  },
  {
   "cell_type": "markdown",
   "metadata": {},
   "source": [
    "### Question 2"
   ]
  },
  {
   "cell_type": "markdown",
   "metadata": {},
   "source": [
    "#### Given a new observation (1.4,1.6), which two observations in the table are nearer the new data point, using the Euclidean distance?"
   ]
  },
  {
   "cell_type": "code",
   "execution_count": 1,
   "metadata": {},
   "outputs": [],
   "source": [
    "# initialize vectors\n",
    "\n",
    "inst = c(\"I1\", \"I2\", \"I3\", \"I4\")\n",
    "v1 = c(1.5, 2, 1.6, 1.2)\n",
    "v2 = c(1.7, 1.9, 1.8, 1.5)"
   ]
  },
  {
   "cell_type": "code",
   "execution_count": 2,
   "metadata": {},
   "outputs": [],
   "source": [
    "# create dataframe\n",
    "\n",
    "df = data.frame(inst, v1, v2)"
   ]
  },
  {
   "cell_type": "code",
   "execution_count": 3,
   "metadata": {},
   "outputs": [
    {
     "data": {
      "text/html": [
       "<table>\n",
       "<thead><tr><th scope=col>inst</th><th scope=col>v1</th><th scope=col>v2</th></tr></thead>\n",
       "<tbody>\n",
       "\t<tr><td>I1 </td><td>1.5</td><td>1.7</td></tr>\n",
       "\t<tr><td>I2 </td><td>2.0</td><td>1.9</td></tr>\n",
       "\t<tr><td>I3 </td><td>1.6</td><td>1.8</td></tr>\n",
       "\t<tr><td>I4 </td><td>1.2</td><td>1.5</td></tr>\n",
       "</tbody>\n",
       "</table>\n"
      ],
      "text/latex": [
       "\\begin{tabular}{r|lll}\n",
       " inst & v1 & v2\\\\\n",
       "\\hline\n",
       "\t I1  & 1.5 & 1.7\\\\\n",
       "\t I2  & 2.0 & 1.9\\\\\n",
       "\t I3  & 1.6 & 1.8\\\\\n",
       "\t I4  & 1.2 & 1.5\\\\\n",
       "\\end{tabular}\n"
      ],
      "text/markdown": [
       "\n",
       "inst | v1 | v2 | \n",
       "|---|---|---|---|\n",
       "| I1  | 1.5 | 1.7 | \n",
       "| I2  | 2.0 | 1.9 | \n",
       "| I3  | 1.6 | 1.8 | \n",
       "| I4  | 1.2 | 1.5 | \n",
       "\n",
       "\n"
      ],
      "text/plain": [
       "  inst v1  v2 \n",
       "1 I1   1.5 1.7\n",
       "2 I2   2.0 1.9\n",
       "3 I3   1.6 1.8\n",
       "4 I4   1.2 1.5"
      ]
     },
     "metadata": {},
     "output_type": "display_data"
    }
   ],
   "source": [
    "df"
   ]
  },
  {
   "cell_type": "code",
   "execution_count": 4,
   "metadata": {},
   "outputs": [],
   "source": [
    "euclidean_distance = function(v1, v2){\n",
    "    return(sum((v1 - v2) * (v1 - v2)))\n",
    "}"
   ]
  },
  {
   "cell_type": "code",
   "execution_count": 5,
   "metadata": {},
   "outputs": [
    {
     "data": {
      "text/html": [
       "I1"
      ],
      "text/latex": [
       "I1"
      ],
      "text/markdown": [
       "I1"
      ],
      "text/plain": [
       "[1] I1\n",
       "Levels: I1 I2 I3 I4"
      ]
     },
     "metadata": {},
     "output_type": "display_data"
    },
    {
     "data": {
      "text/html": [
       "0.02"
      ],
      "text/latex": [
       "0.02"
      ],
      "text/markdown": [
       "0.02"
      ],
      "text/plain": [
       "[1] 0.02"
      ]
     },
     "metadata": {},
     "output_type": "display_data"
    }
   ],
   "source": [
    "min_distance = euclidean_distance(df[1, -c(1)], c(1.4,1.6))\n",
    "min_index = df[1, 1]\n",
    "\n",
    "for(i in 2:4) {\n",
    "    distance = euclidean_distance(df[i, -c(1)], c(1.4,1.6))\n",
    "    if (min_distance > distance) {\n",
    "        min_distance = distance\n",
    "        min_index = df[i, 1]\n",
    "    }\n",
    "}\n",
    "\n",
    "min_index\n",
    "min_distance"
   ]
  },
  {
   "cell_type": "code",
   "execution_count": null,
   "metadata": {},
   "outputs": [],
   "source": []
  }
 ],
 "metadata": {
  "kernelspec": {
   "display_name": "R",
   "language": "R",
   "name": "ir"
  },
  "language_info": {
   "codemirror_mode": "r",
   "file_extension": ".r",
   "mimetype": "text/x-r-source",
   "name": "R",
   "pygments_lexer": "r",
   "version": "3.2.3"
  }
 },
 "nbformat": 4,
 "nbformat_minor": 2
}
