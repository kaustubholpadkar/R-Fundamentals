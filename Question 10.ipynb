{
 "cells": [
  {
   "cell_type": "markdown",
   "metadata": {},
   "source": [
    "## Assignment 1"
   ]
  },
  {
   "cell_type": "markdown",
   "metadata": {},
   "source": [
    "### Question 10"
   ]
  },
  {
   "cell_type": "markdown",
   "metadata": {},
   "source": [
    "#### Write R codes that takes the coefficients of a quadratic equation, and outputs an appropriate message for the cases of \n",
    "#### (i). two distinct roots (b2 − 4ac > 0) \n",
    "#### (ii) coincident roots (b2 = 4ac) or \n",
    "#### (iii). complex roots (b2 < 4ac)."
   ]
  },
  {
   "cell_type": "markdown",
   "metadata": {},
   "source": [
    "### A * X ^ 2 + B * X + C = 0"
   ]
  },
  {
   "cell_type": "code",
   "execution_count": 1,
   "metadata": {},
   "outputs": [],
   "source": [
    "delta = function (A, B, C) {\n",
    "    B ^ 2 - 4 * A * C\n",
    "}"
   ]
  },
  {
   "cell_type": "code",
   "execution_count": 2,
   "metadata": {},
   "outputs": [],
   "source": [
    "solve_quad_equation = function (A, B, C) {\n",
    "    \n",
    "    # root1 = (- B + sqrt(delta(A, B, C)))/(2 * A)\n",
    "    # root2 = (- B - sqrt(delta(A, B, C)))/(2 * A)\n",
    "    \n",
    "    if (delta(A, B, C) > 0) {\n",
    "        print(\"Two Roots\")\n",
    "        root1 = (- B + sqrt(delta(A, B, C)))/(2 * A)\n",
    "        root2 = (- B - sqrt(delta(A, B, C)))/(2 * A)\n",
    "        return(c(root1, root2))\n",
    "    } else if(delta(A, B, C) == 0){\n",
    "        print(\"One Root\")\n",
    "        root = - B / (2 * A)\n",
    "        return(c(root))\n",
    "    } else {\n",
    "        \"There are no real roots.\"\n",
    "    }\n",
    "}"
   ]
  },
  {
   "cell_type": "code",
   "execution_count": 3,
   "metadata": {},
   "outputs": [
    {
     "name": "stdout",
     "output_type": "stream",
     "text": [
      "Enter A : 1\n",
      "Enter B : -4\n",
      "Enter C : 3\n"
     ]
    }
   ],
   "source": [
    "A = as.numeric(readline(prompt=\"Enter A : \"))\n",
    "B = as.numeric(readline(prompt=\"Enter B : \"))\n",
    "C = as.numeric(readline(prompt=\"Enter C : \"))"
   ]
  },
  {
   "cell_type": "code",
   "execution_count": 4,
   "metadata": {},
   "outputs": [
    {
     "name": "stdout",
     "output_type": "stream",
     "text": [
      "[1] \"Two Roots\"\n"
     ]
    },
    {
     "data": {
      "text/html": [
       "<ol class=list-inline>\n",
       "\t<li>3</li>\n",
       "\t<li>1</li>\n",
       "</ol>\n"
      ],
      "text/latex": [
       "\\begin{enumerate*}\n",
       "\\item 3\n",
       "\\item 1\n",
       "\\end{enumerate*}\n"
      ],
      "text/markdown": [
       "1. 3\n",
       "2. 1\n",
       "\n",
       "\n"
      ],
      "text/plain": [
       "[1] 3 1"
      ]
     },
     "metadata": {},
     "output_type": "display_data"
    }
   ],
   "source": [
    "solve_quad_equation(A, B, C)"
   ]
  },
  {
   "cell_type": "code",
   "execution_count": null,
   "metadata": {},
   "outputs": [],
   "source": []
  }
 ],
 "metadata": {
  "kernelspec": {
   "display_name": "R",
   "language": "R",
   "name": "ir"
  },
  "language_info": {
   "codemirror_mode": "r",
   "file_extension": ".r",
   "mimetype": "text/x-r-source",
   "name": "R",
   "pygments_lexer": "r",
   "version": "3.2.3"
  }
 },
 "nbformat": 4,
 "nbformat_minor": 2
}
