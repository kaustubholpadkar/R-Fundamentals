{
 "cells": [
  {
   "cell_type": "markdown",
   "metadata": {},
   "source": [
    "## Assignment 1"
   ]
  },
  {
   "cell_type": "markdown",
   "metadata": {},
   "source": [
    "### Question 17"
   ]
  },
  {
   "cell_type": "markdown",
   "metadata": {},
   "source": [
    "#### Examine the built in ChickWeight data (the help gives background about the data). \n",
    "#### The function split will prove useful to do the following (as will a script)"
   ]
  },
  {
   "cell_type": "markdown",
   "metadata": {},
   "source": [
    "#### (a) Construct a plot of weight against time for chick number 34."
   ]
  },
  {
   "cell_type": "code",
   "execution_count": 1,
   "metadata": {},
   "outputs": [],
   "source": [
    "# Print Data\n",
    "\n",
    "df = ChickWeight[ChickWeight[3] == 34,]"
   ]
  },
  {
   "cell_type": "code",
   "execution_count": 2,
   "metadata": {},
   "outputs": [
    {
     "data": {
      "text/html": [
       "<table>\n",
       "<thead><tr><th></th><th scope=col>weight</th><th scope=col>Time</th><th scope=col>Chick</th><th scope=col>Diet</th></tr></thead>\n",
       "<tbody>\n",
       "\t<tr><th scope=row>377</th><td> 41</td><td> 0 </td><td>34 </td><td>3  </td></tr>\n",
       "\t<tr><th scope=row>378</th><td> 49</td><td> 2 </td><td>34 </td><td>3  </td></tr>\n",
       "\t<tr><th scope=row>379</th><td> 63</td><td> 4 </td><td>34 </td><td>3  </td></tr>\n",
       "\t<tr><th scope=row>380</th><td> 85</td><td> 6 </td><td>34 </td><td>3  </td></tr>\n",
       "\t<tr><th scope=row>381</th><td>107</td><td> 8 </td><td>34 </td><td>3  </td></tr>\n",
       "\t<tr><th scope=row>382</th><td>134</td><td>10 </td><td>34 </td><td>3  </td></tr>\n",
       "\t<tr><th scope=row>383</th><td>164</td><td>12 </td><td>34 </td><td>3  </td></tr>\n",
       "\t<tr><th scope=row>384</th><td>186</td><td>14 </td><td>34 </td><td>3  </td></tr>\n",
       "\t<tr><th scope=row>385</th><td>235</td><td>16 </td><td>34 </td><td>3  </td></tr>\n",
       "\t<tr><th scope=row>386</th><td>294</td><td>18 </td><td>34 </td><td>3  </td></tr>\n",
       "\t<tr><th scope=row>387</th><td>327</td><td>20 </td><td>34 </td><td>3  </td></tr>\n",
       "\t<tr><th scope=row>388</th><td>341</td><td>21 </td><td>34 </td><td>3  </td></tr>\n",
       "</tbody>\n",
       "</table>\n"
      ],
      "text/latex": [
       "\\begin{tabular}{r|llll}\n",
       "  & weight & Time & Chick & Diet\\\\\n",
       "\\hline\n",
       "\t377 &  41 &  0  & 34  & 3  \\\\\n",
       "\t378 &  49 &  2  & 34  & 3  \\\\\n",
       "\t379 &  63 &  4  & 34  & 3  \\\\\n",
       "\t380 &  85 &  6  & 34  & 3  \\\\\n",
       "\t381 & 107 &  8  & 34  & 3  \\\\\n",
       "\t382 & 134 & 10  & 34  & 3  \\\\\n",
       "\t383 & 164 & 12  & 34  & 3  \\\\\n",
       "\t384 & 186 & 14  & 34  & 3  \\\\\n",
       "\t385 & 235 & 16  & 34  & 3  \\\\\n",
       "\t386 & 294 & 18  & 34  & 3  \\\\\n",
       "\t387 & 327 & 20  & 34  & 3  \\\\\n",
       "\t388 & 341 & 21  & 34  & 3  \\\\\n",
       "\\end{tabular}\n"
      ],
      "text/markdown": [
       "\n",
       "| <!--/--> | weight | Time | Chick | Diet | \n",
       "|---|---|---|---|---|---|---|---|---|---|---|---|\n",
       "| 377 |  41 |  0  | 34  | 3   | \n",
       "| 378 |  49 |  2  | 34  | 3   | \n",
       "| 379 |  63 |  4  | 34  | 3   | \n",
       "| 380 |  85 |  6  | 34  | 3   | \n",
       "| 381 | 107 |  8  | 34  | 3   | \n",
       "| 382 | 134 | 10  | 34  | 3   | \n",
       "| 383 | 164 | 12  | 34  | 3   | \n",
       "| 384 | 186 | 14  | 34  | 3   | \n",
       "| 385 | 235 | 16  | 34  | 3   | \n",
       "| 386 | 294 | 18  | 34  | 3   | \n",
       "| 387 | 327 | 20  | 34  | 3   | \n",
       "| 388 | 341 | 21  | 34  | 3   | \n",
       "\n",
       "\n"
      ],
      "text/plain": [
       "    weight Time Chick Diet\n",
       "377  41     0   34    3   \n",
       "378  49     2   34    3   \n",
       "379  63     4   34    3   \n",
       "380  85     6   34    3   \n",
       "381 107     8   34    3   \n",
       "382 134    10   34    3   \n",
       "383 164    12   34    3   \n",
       "384 186    14   34    3   \n",
       "385 235    16   34    3   \n",
       "386 294    18   34    3   \n",
       "387 327    20   34    3   \n",
       "388 341    21   34    3   "
      ]
     },
     "metadata": {},
     "output_type": "display_data"
    }
   ],
   "source": [
    "df"
   ]
  },
  {
   "cell_type": "code",
   "execution_count": 3,
   "metadata": {},
   "outputs": [],
   "source": [
    "weight = df[, c(1)]\n",
    "time   = df[, c(2)]"
   ]
  },
  {
   "cell_type": "code",
   "execution_count": 4,
   "metadata": {},
   "outputs": [
    {
     "data": {
      "image/png": "[encoded data removed]",
      "text/plain": [
       "plot without title"
      ]
     },
     "metadata": {},
     "output_type": "display_data"
    }
   ],
   "source": [
    "plot(time, weight, \"o\")"
   ]
  },
  {
   "cell_type": "markdown",
   "metadata": {},
   "source": [
    "#### (b) For chicks in diet group 4, display box plots for each time point."
   ]
  },
  {
   "cell_type": "code",
   "execution_count": 39,
   "metadata": {},
   "outputs": [],
   "source": [
    "# Print Data\n",
    "\n",
    "data = ChickWeight[ChickWeight[4] == 4, c(1, 2)]"
   ]
  },
  {
   "cell_type": "code",
   "execution_count": 40,
   "metadata": {},
   "outputs": [],
   "source": [
    "data = data[1:20, ]"
   ]
  },
  {
   "cell_type": "code",
   "execution_count": 41,
   "metadata": {},
   "outputs": [
    {
     "data": {
      "text/html": [
       "<table>\n",
       "<thead><tr><th></th><th scope=col>weight</th><th scope=col>Time</th></tr></thead>\n",
       "<tbody>\n",
       "\t<tr><th scope=row>461</th><td> 42</td><td> 0 </td></tr>\n",
       "\t<tr><th scope=row>462</th><td> 51</td><td> 2 </td></tr>\n",
       "\t<tr><th scope=row>463</th><td> 66</td><td> 4 </td></tr>\n",
       "\t<tr><th scope=row>464</th><td> 85</td><td> 6 </td></tr>\n",
       "\t<tr><th scope=row>465</th><td>103</td><td> 8 </td></tr>\n",
       "\t<tr><th scope=row>466</th><td>124</td><td>10 </td></tr>\n",
       "\t<tr><th scope=row>467</th><td>155</td><td>12 </td></tr>\n",
       "\t<tr><th scope=row>468</th><td>153</td><td>14 </td></tr>\n",
       "\t<tr><th scope=row>469</th><td>175</td><td>16 </td></tr>\n",
       "\t<tr><th scope=row>470</th><td>184</td><td>18 </td></tr>\n",
       "\t<tr><th scope=row>471</th><td>199</td><td>20 </td></tr>\n",
       "\t<tr><th scope=row>472</th><td>204</td><td>21 </td></tr>\n",
       "\t<tr><th scope=row>473</th><td> 42</td><td> 0 </td></tr>\n",
       "\t<tr><th scope=row>474</th><td> 49</td><td> 2 </td></tr>\n",
       "\t<tr><th scope=row>475</th><td> 63</td><td> 4 </td></tr>\n",
       "\t<tr><th scope=row>476</th><td> 84</td><td> 6 </td></tr>\n",
       "\t<tr><th scope=row>477</th><td>103</td><td> 8 </td></tr>\n",
       "\t<tr><th scope=row>478</th><td>126</td><td>10 </td></tr>\n",
       "\t<tr><th scope=row>479</th><td>160</td><td>12 </td></tr>\n",
       "\t<tr><th scope=row>480</th><td>174</td><td>14 </td></tr>\n",
       "</tbody>\n",
       "</table>\n"
      ],
      "text/latex": [
       "\\begin{tabular}{r|ll}\n",
       "  & weight & Time\\\\\n",
       "\\hline\n",
       "\t461 &  42 &  0 \\\\\n",
       "\t462 &  51 &  2 \\\\\n",
       "\t463 &  66 &  4 \\\\\n",
       "\t464 &  85 &  6 \\\\\n",
       "\t465 & 103 &  8 \\\\\n",
       "\t466 & 124 & 10 \\\\\n",
       "\t467 & 155 & 12 \\\\\n",
       "\t468 & 153 & 14 \\\\\n",
       "\t469 & 175 & 16 \\\\\n",
       "\t470 & 184 & 18 \\\\\n",
       "\t471 & 199 & 20 \\\\\n",
       "\t472 & 204 & 21 \\\\\n",
       "\t473 &  42 &  0 \\\\\n",
       "\t474 &  49 &  2 \\\\\n",
       "\t475 &  63 &  4 \\\\\n",
       "\t476 &  84 &  6 \\\\\n",
       "\t477 & 103 &  8 \\\\\n",
       "\t478 & 126 & 10 \\\\\n",
       "\t479 & 160 & 12 \\\\\n",
       "\t480 & 174 & 14 \\\\\n",
       "\\end{tabular}\n"
      ],
      "text/markdown": [
       "\n",
       "| <!--/--> | weight | Time | \n",
       "|---|---|---|---|---|---|---|---|---|---|---|---|---|---|---|---|---|---|---|---|\n",
       "| 461 |  42 |  0  | \n",
       "| 462 |  51 |  2  | \n",
       "| 463 |  66 |  4  | \n",
       "| 464 |  85 |  6  | \n",
       "| 465 | 103 |  8  | \n",
       "| 466 | 124 | 10  | \n",
       "| 467 | 155 | 12  | \n",
       "| 468 | 153 | 14  | \n",
       "| 469 | 175 | 16  | \n",
       "| 470 | 184 | 18  | \n",
       "| 471 | 199 | 20  | \n",
       "| 472 | 204 | 21  | \n",
       "| 473 |  42 |  0  | \n",
       "| 474 |  49 |  2  | \n",
       "| 475 |  63 |  4  | \n",
       "| 476 |  84 |  6  | \n",
       "| 477 | 103 |  8  | \n",
       "| 478 | 126 | 10  | \n",
       "| 479 | 160 | 12  | \n",
       "| 480 | 174 | 14  | \n",
       "\n",
       "\n"
      ],
      "text/plain": [
       "    weight Time\n",
       "461  42     0  \n",
       "462  51     2  \n",
       "463  66     4  \n",
       "464  85     6  \n",
       "465 103     8  \n",
       "466 124    10  \n",
       "467 155    12  \n",
       "468 153    14  \n",
       "469 175    16  \n",
       "470 184    18  \n",
       "471 199    20  \n",
       "472 204    21  \n",
       "473  42     0  \n",
       "474  49     2  \n",
       "475  63     4  \n",
       "476  84     6  \n",
       "477 103     8  \n",
       "478 126    10  \n",
       "479 160    12  \n",
       "480 174    14  "
      ]
     },
     "metadata": {},
     "output_type": "display_data"
    }
   ],
   "source": [
    "data"
   ]
  },
  {
   "cell_type": "code",
   "execution_count": 42,
   "metadata": {},
   "outputs": [
    {
     "data": {
      "text/html": [
       "<ol class=list-inline>\n",
       "\t<li>0</li>\n",
       "\t<li>2</li>\n",
       "\t<li>4</li>\n",
       "\t<li>6</li>\n",
       "\t<li>8</li>\n",
       "\t<li>10</li>\n",
       "\t<li>12</li>\n",
       "\t<li>14</li>\n",
       "\t<li>16</li>\n",
       "\t<li>18</li>\n",
       "\t<li>20</li>\n",
       "\t<li>21</li>\n",
       "\t<li>0</li>\n",
       "\t<li>2</li>\n",
       "\t<li>4</li>\n",
       "\t<li>6</li>\n",
       "\t<li>8</li>\n",
       "\t<li>10</li>\n",
       "\t<li>12</li>\n",
       "\t<li>14</li>\n",
       "</ol>\n"
      ],
      "text/latex": [
       "\\begin{enumerate*}\n",
       "\\item 0\n",
       "\\item 2\n",
       "\\item 4\n",
       "\\item 6\n",
       "\\item 8\n",
       "\\item 10\n",
       "\\item 12\n",
       "\\item 14\n",
       "\\item 16\n",
       "\\item 18\n",
       "\\item 20\n",
       "\\item 21\n",
       "\\item 0\n",
       "\\item 2\n",
       "\\item 4\n",
       "\\item 6\n",
       "\\item 8\n",
       "\\item 10\n",
       "\\item 12\n",
       "\\item 14\n",
       "\\end{enumerate*}\n"
      ],
      "text/markdown": [
       "1. 0\n",
       "2. 2\n",
       "3. 4\n",
       "4. 6\n",
       "5. 8\n",
       "6. 10\n",
       "7. 12\n",
       "8. 14\n",
       "9. 16\n",
       "10. 18\n",
       "11. 20\n",
       "12. 21\n",
       "13. 0\n",
       "14. 2\n",
       "15. 4\n",
       "16. 6\n",
       "17. 8\n",
       "18. 10\n",
       "19. 12\n",
       "20. 14\n",
       "\n",
       "\n"
      ],
      "text/plain": [
       " [1]  0  2  4  6  8 10 12 14 16 18 20 21  0  2  4  6  8 10 12 14"
      ]
     },
     "metadata": {},
     "output_type": "display_data"
    }
   ],
   "source": [
    "data$Time"
   ]
  },
  {
   "cell_type": "code",
   "execution_count": 45,
   "metadata": {},
   "outputs": [
    {
     "data": {
      "image/png": "[encoded data removed]",
      "text/plain": [
       "plot without title"
      ]
     },
     "metadata": {},
     "output_type": "display_data"
    }
   ],
   "source": [
    "boxplot(weight ~ Time , data)"
   ]
  },
  {
   "cell_type": "markdown",
   "metadata": {},
   "source": [
    "#### (c) Compute the mean weight for chicks in group 4, for each time point. \n",
    "#### Plot this mean value against time."
   ]
  },
  {
   "cell_type": "code",
   "execution_count": 8,
   "metadata": {},
   "outputs": [],
   "source": [
    "# Print Data\n",
    "\n",
    "data = ChickWeight[ChickWeight[4] == 4,]"
   ]
  },
  {
   "cell_type": "code",
   "execution_count": 9,
   "metadata": {},
   "outputs": [
    {
     "data": {
      "text/html": [
       "<table>\n",
       "<thead><tr><th></th><th scope=col>weight</th><th scope=col>Time</th><th scope=col>Chick</th><th scope=col>Diet</th></tr></thead>\n",
       "<tbody>\n",
       "\t<tr><th scope=row>461</th><td> 42</td><td> 0 </td><td>41 </td><td>4  </td></tr>\n",
       "\t<tr><th scope=row>462</th><td> 51</td><td> 2 </td><td>41 </td><td>4  </td></tr>\n",
       "\t<tr><th scope=row>463</th><td> 66</td><td> 4 </td><td>41 </td><td>4  </td></tr>\n",
       "\t<tr><th scope=row>464</th><td> 85</td><td> 6 </td><td>41 </td><td>4  </td></tr>\n",
       "\t<tr><th scope=row>465</th><td>103</td><td> 8 </td><td>41 </td><td>4  </td></tr>\n",
       "\t<tr><th scope=row>466</th><td>124</td><td>10 </td><td>41 </td><td>4  </td></tr>\n",
       "</tbody>\n",
       "</table>\n"
      ],
      "text/latex": [
       "\\begin{tabular}{r|llll}\n",
       "  & weight & Time & Chick & Diet\\\\\n",
       "\\hline\n",
       "\t461 &  42 &  0  & 41  & 4  \\\\\n",
       "\t462 &  51 &  2  & 41  & 4  \\\\\n",
       "\t463 &  66 &  4  & 41  & 4  \\\\\n",
       "\t464 &  85 &  6  & 41  & 4  \\\\\n",
       "\t465 & 103 &  8  & 41  & 4  \\\\\n",
       "\t466 & 124 & 10  & 41  & 4  \\\\\n",
       "\\end{tabular}\n"
      ],
      "text/markdown": [
       "\n",
       "| <!--/--> | weight | Time | Chick | Diet | \n",
       "|---|---|---|---|---|---|\n",
       "| 461 |  42 |  0  | 41  | 4   | \n",
       "| 462 |  51 |  2  | 41  | 4   | \n",
       "| 463 |  66 |  4  | 41  | 4   | \n",
       "| 464 |  85 |  6  | 41  | 4   | \n",
       "| 465 | 103 |  8  | 41  | 4   | \n",
       "| 466 | 124 | 10  | 41  | 4   | \n",
       "\n",
       "\n"
      ],
      "text/plain": [
       "    weight Time Chick Diet\n",
       "461  42     0   41    4   \n",
       "462  51     2   41    4   \n",
       "463  66     4   41    4   \n",
       "464  85     6   41    4   \n",
       "465 103     8   41    4   \n",
       "466 124    10   41    4   "
      ]
     },
     "metadata": {},
     "output_type": "display_data"
    }
   ],
   "source": [
    "head(data)"
   ]
  },
  {
   "cell_type": "code",
   "execution_count": 10,
   "metadata": {},
   "outputs": [],
   "source": [
    "X = c()\n",
    "Y = c()\n",
    "\n",
    "for (time in seq(0, 22, by=1)) {\n",
    "    df = mean(data[data[2] == time, 1])\n",
    "    if (!is.na(df)) {\n",
    "        X = c(X, time)\n",
    "        Y = c(Y, df)\n",
    "    }\n",
    "}"
   ]
  },
  {
   "cell_type": "code",
   "execution_count": 11,
   "metadata": {},
   "outputs": [
    {
     "data": {
      "image/png": "[encoded data removed]",
      "text/plain": [
       "plot without title"
      ]
     },
     "metadata": {},
     "output_type": "display_data"
    }
   ],
   "source": [
    "plot(X, Y, \"o\", xlab = \"Time\", ylab = \"Mean Weight\")"
   ]
  },
  {
   "cell_type": "markdown",
   "metadata": {},
   "source": [
    "#### Repeat the previous computation for group 2. \n",
    "#### Add the mean for group 2 to the existing plot."
   ]
  },
  {
   "cell_type": "code",
   "execution_count": 12,
   "metadata": {},
   "outputs": [],
   "source": [
    "# Print Data\n",
    "\n",
    "data1 = ChickWeight[ChickWeight[4] == 2,]"
   ]
  },
  {
   "cell_type": "code",
   "execution_count": 13,
   "metadata": {},
   "outputs": [
    {
     "data": {
      "text/html": [
       "<table>\n",
       "<thead><tr><th></th><th scope=col>weight</th><th scope=col>Time</th><th scope=col>Chick</th><th scope=col>Diet</th></tr></thead>\n",
       "<tbody>\n",
       "\t<tr><th scope=row>221</th><td> 40</td><td> 0 </td><td>21 </td><td>2  </td></tr>\n",
       "\t<tr><th scope=row>222</th><td> 50</td><td> 2 </td><td>21 </td><td>2  </td></tr>\n",
       "\t<tr><th scope=row>223</th><td> 62</td><td> 4 </td><td>21 </td><td>2  </td></tr>\n",
       "\t<tr><th scope=row>224</th><td> 86</td><td> 6 </td><td>21 </td><td>2  </td></tr>\n",
       "\t<tr><th scope=row>225</th><td>125</td><td> 8 </td><td>21 </td><td>2  </td></tr>\n",
       "\t<tr><th scope=row>226</th><td>163</td><td>10 </td><td>21 </td><td>2  </td></tr>\n",
       "</tbody>\n",
       "</table>\n"
      ],
      "text/latex": [
       "\\begin{tabular}{r|llll}\n",
       "  & weight & Time & Chick & Diet\\\\\n",
       "\\hline\n",
       "\t221 &  40 &  0  & 21  & 2  \\\\\n",
       "\t222 &  50 &  2  & 21  & 2  \\\\\n",
       "\t223 &  62 &  4  & 21  & 2  \\\\\n",
       "\t224 &  86 &  6  & 21  & 2  \\\\\n",
       "\t225 & 125 &  8  & 21  & 2  \\\\\n",
       "\t226 & 163 & 10  & 21  & 2  \\\\\n",
       "\\end{tabular}\n"
      ],
      "text/markdown": [
       "\n",
       "| <!--/--> | weight | Time | Chick | Diet | \n",
       "|---|---|---|---|---|---|\n",
       "| 221 |  40 |  0  | 21  | 2   | \n",
       "| 222 |  50 |  2  | 21  | 2   | \n",
       "| 223 |  62 |  4  | 21  | 2   | \n",
       "| 224 |  86 |  6  | 21  | 2   | \n",
       "| 225 | 125 |  8  | 21  | 2   | \n",
       "| 226 | 163 | 10  | 21  | 2   | \n",
       "\n",
       "\n"
      ],
      "text/plain": [
       "    weight Time Chick Diet\n",
       "221  40     0   21    2   \n",
       "222  50     2   21    2   \n",
       "223  62     4   21    2   \n",
       "224  86     6   21    2   \n",
       "225 125     8   21    2   \n",
       "226 163    10   21    2   "
      ]
     },
     "metadata": {},
     "output_type": "display_data"
    }
   ],
   "source": [
    "head(data1)"
   ]
  },
  {
   "cell_type": "code",
   "execution_count": 14,
   "metadata": {},
   "outputs": [],
   "source": [
    "X1 = c()\n",
    "Y1 = c()\n",
    "\n",
    "for (time in seq(0, 22, by=1)) {\n",
    "    df = mean(data1[data1[2] == time, 1])\n",
    "    if (!is.na(df)) {\n",
    "        X1 = c(X1, time)\n",
    "        Y1 = c(Y1, df)\n",
    "    }\n",
    "}"
   ]
  },
  {
   "cell_type": "code",
   "execution_count": 15,
   "metadata": {},
   "outputs": [
    {
     "data": {
      "image/png": "[encoded data removed]",
      "text/plain": [
       "Plot with title “Mean vs Time”"
      ]
     },
     "metadata": {},
     "output_type": "display_data"
    }
   ],
   "source": [
    "plot(X, Y, \"o\", xlab = \"Time\", ylab = \"Mean Weight\", col=\"red\")\n",
    "legend(\"topleft\", \"Group 4\", pch = 1, inset = 0, text.col = \"green\")\n",
    "par(new=TRUE)\n",
    "plot(X1, Y1,\"o\",xlab = \"Time\", ylab = \"Mean Weight\", col=\"green\", axes = FALSE, main = \"Mean vs Time\")\n",
    "legend(\"topleft\", \"Group 2\", pch = 1,  inset = .1, text.col = \"red\")"
   ]
  },
  {
   "cell_type": "code",
   "execution_count": null,
   "metadata": {},
   "outputs": [],
   "source": []
  },
  {
   "cell_type": "code",
   "execution_count": null,
   "metadata": {},
   "outputs": [],
   "source": []
  }
 ],
 "metadata": {
  "kernelspec": {
   "display_name": "R",
   "language": "R",
   "name": "ir"
  },
  "language_info": {
   "codemirror_mode": "r",
   "file_extension": ".r",
   "mimetype": "text/x-r-source",
   "name": "R",
   "pygments_lexer": "r",
   "version": "3.2.3"
  }
 },
 "nbformat": 4,
 "nbformat_minor": 2
}
