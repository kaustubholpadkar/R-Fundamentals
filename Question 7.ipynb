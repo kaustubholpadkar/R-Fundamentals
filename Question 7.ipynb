{
 "cells": [
  {
   "cell_type": "markdown",
   "metadata": {},
   "source": [
    "## Assignment 1"
   ]
  },
  {
   "cell_type": "markdown",
   "metadata": {},
   "source": [
    "### Question 7"
   ]
  },
  {
   "cell_type": "markdown",
   "metadata": {},
   "source": [
    "#### Generate a matrix of size n × p. Use the function as.data.frame to coerce the matrix to a data frame. \n",
    "#### Which object requires more storage space?"
   ]
  },
  {
   "cell_type": "code",
   "execution_count": 1,
   "metadata": {},
   "outputs": [],
   "source": [
    "n = 4\n",
    "p = 6"
   ]
  },
  {
   "cell_type": "code",
   "execution_count": 2,
   "metadata": {},
   "outputs": [],
   "source": [
    "# create n x p matrix\n",
    "\n",
    "mat = matrix(1:24, nrow = n, ncol = p)"
   ]
  },
  {
   "cell_type": "code",
   "execution_count": 3,
   "metadata": {},
   "outputs": [
    {
     "data": {
      "text/html": [
       "<table>\n",
       "<tbody>\n",
       "\t<tr><td>1 </td><td>5 </td><td> 9</td><td>13</td><td>17</td><td>21</td></tr>\n",
       "\t<tr><td>2 </td><td>6 </td><td>10</td><td>14</td><td>18</td><td>22</td></tr>\n",
       "\t<tr><td>3 </td><td>7 </td><td>11</td><td>15</td><td>19</td><td>23</td></tr>\n",
       "\t<tr><td>4 </td><td>8 </td><td>12</td><td>16</td><td>20</td><td>24</td></tr>\n",
       "</tbody>\n",
       "</table>\n"
      ],
      "text/latex": [
       "\\begin{tabular}{llllll}\n",
       "\t 1  & 5  &  9 & 13 & 17 & 21\\\\\n",
       "\t 2  & 6  & 10 & 14 & 18 & 22\\\\\n",
       "\t 3  & 7  & 11 & 15 & 19 & 23\\\\\n",
       "\t 4  & 8  & 12 & 16 & 20 & 24\\\\\n",
       "\\end{tabular}\n"
      ],
      "text/markdown": [
       "\n",
       "| 1  | 5  |  9 | 13 | 17 | 21 | \n",
       "| 2  | 6  | 10 | 14 | 18 | 22 | \n",
       "| 3  | 7  | 11 | 15 | 19 | 23 | \n",
       "| 4  | 8  | 12 | 16 | 20 | 24 | \n",
       "\n",
       "\n"
      ],
      "text/plain": [
       "     [,1] [,2] [,3] [,4] [,5] [,6]\n",
       "[1,] 1    5     9   13   17   21  \n",
       "[2,] 2    6    10   14   18   22  \n",
       "[3,] 3    7    11   15   19   23  \n",
       "[4,] 4    8    12   16   20   24  "
      ]
     },
     "metadata": {},
     "output_type": "display_data"
    }
   ],
   "source": [
    "mat"
   ]
  },
  {
   "cell_type": "code",
   "execution_count": 4,
   "metadata": {},
   "outputs": [
    {
     "data": {
      "text/plain": [
       "328 bytes"
      ]
     },
     "metadata": {},
     "output_type": "display_data"
    }
   ],
   "source": [
    "# Storage Space : Matrix\n",
    "\n",
    "object.size(mat)"
   ]
  },
  {
   "cell_type": "code",
   "execution_count": 5,
   "metadata": {},
   "outputs": [],
   "source": [
    "# create Dataframe from the matrix\n",
    "\n",
    "df = as.data.frame(mat)"
   ]
  },
  {
   "cell_type": "code",
   "execution_count": 6,
   "metadata": {},
   "outputs": [
    {
     "data": {
      "text/html": [
       "<table>\n",
       "<thead><tr><th scope=col>V1</th><th scope=col>V2</th><th scope=col>V3</th><th scope=col>V4</th><th scope=col>V5</th><th scope=col>V6</th></tr></thead>\n",
       "<tbody>\n",
       "\t<tr><td>1 </td><td>5 </td><td> 9</td><td>13</td><td>17</td><td>21</td></tr>\n",
       "\t<tr><td>2 </td><td>6 </td><td>10</td><td>14</td><td>18</td><td>22</td></tr>\n",
       "\t<tr><td>3 </td><td>7 </td><td>11</td><td>15</td><td>19</td><td>23</td></tr>\n",
       "\t<tr><td>4 </td><td>8 </td><td>12</td><td>16</td><td>20</td><td>24</td></tr>\n",
       "</tbody>\n",
       "</table>\n"
      ],
      "text/latex": [
       "\\begin{tabular}{r|llllll}\n",
       " V1 & V2 & V3 & V4 & V5 & V6\\\\\n",
       "\\hline\n",
       "\t 1  & 5  &  9 & 13 & 17 & 21\\\\\n",
       "\t 2  & 6  & 10 & 14 & 18 & 22\\\\\n",
       "\t 3  & 7  & 11 & 15 & 19 & 23\\\\\n",
       "\t 4  & 8  & 12 & 16 & 20 & 24\\\\\n",
       "\\end{tabular}\n"
      ],
      "text/markdown": [
       "\n",
       "V1 | V2 | V3 | V4 | V5 | V6 | \n",
       "|---|---|---|---|\n",
       "| 1  | 5  |  9 | 13 | 17 | 21 | \n",
       "| 2  | 6  | 10 | 14 | 18 | 22 | \n",
       "| 3  | 7  | 11 | 15 | 19 | 23 | \n",
       "| 4  | 8  | 12 | 16 | 20 | 24 | \n",
       "\n",
       "\n"
      ],
      "text/plain": [
       "  V1 V2 V3 V4 V5 V6\n",
       "1 1  5   9 13 17 21\n",
       "2 2  6  10 14 18 22\n",
       "3 3  7  11 15 19 23\n",
       "4 4  8  12 16 20 24"
      ]
     },
     "metadata": {},
     "output_type": "display_data"
    }
   ],
   "source": [
    "df"
   ]
  },
  {
   "cell_type": "code",
   "execution_count": 7,
   "metadata": {},
   "outputs": [
    {
     "data": {
      "text/plain": [
       "1288 bytes"
      ]
     },
     "metadata": {},
     "output_type": "display_data"
    }
   ],
   "source": [
    "# Storage Space : Matrix\n",
    "\n",
    "object.size(df)"
   ]
  },
  {
   "cell_type": "markdown",
   "metadata": {},
   "source": [
    "### Conclusion :\n",
    "##### Dataframe requires more storage space than Matrix."
   ]
  }
 ],
 "metadata": {
  "kernelspec": {
   "display_name": "R",
   "language": "R",
   "name": "ir"
  },
  "language_info": {
   "codemirror_mode": "r",
   "file_extension": ".r",
   "mimetype": "text/x-r-source",
   "name": "R",
   "pygments_lexer": "r",
   "version": "3.2.3"
  }
 },
 "nbformat": 4,
 "nbformat_minor": 2
}
