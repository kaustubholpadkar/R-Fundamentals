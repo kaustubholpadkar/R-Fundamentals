{
 "cells": [
  {
   "cell_type": "markdown",
   "metadata": {},
   "source": [
    "## Assignment 1"
   ]
  },
  {
   "cell_type": "markdown",
   "metadata": {},
   "source": [
    "### Question 15"
   ]
  },
  {
   "cell_type": "markdown",
   "metadata": {},
   "source": [
    "#### Create a 6 x 10 matrix of random integers chosen from 1, 2,: : : , 10 by executing the following two lines of code:"
   ]
  },
  {
   "cell_type": "code",
   "execution_count": 1,
   "metadata": {},
   "outputs": [],
   "source": [
    "set.seed(75)\n",
    "aMat <- matrix( sample(10, size=60, replace=T), nr=6)"
   ]
  },
  {
   "cell_type": "code",
   "execution_count": 2,
   "metadata": {},
   "outputs": [
    {
     "data": {
      "text/html": [
       "<table>\n",
       "<tbody>\n",
       "\t<tr><td>3 </td><td> 6</td><td>7 </td><td>7 </td><td> 2</td><td> 4</td><td> 3</td><td>7 </td><td> 1</td><td>4 </td></tr>\n",
       "\t<tr><td>1 </td><td> 9</td><td>8 </td><td>7 </td><td> 2</td><td> 6</td><td>10</td><td>9 </td><td> 5</td><td>2 </td></tr>\n",
       "\t<tr><td>7 </td><td>10</td><td>8 </td><td>4 </td><td>10</td><td> 5</td><td> 4</td><td>8 </td><td> 4</td><td>4 </td></tr>\n",
       "\t<tr><td>4 </td><td> 3</td><td>1 </td><td>1 </td><td> 3</td><td> 3</td><td> 9</td><td>7 </td><td> 4</td><td>2 </td></tr>\n",
       "\t<tr><td>1 </td><td> 8</td><td>1 </td><td>9 </td><td> 9</td><td> 8</td><td> 1</td><td>3 </td><td> 7</td><td>7 </td></tr>\n",
       "\t<tr><td>2 </td><td> 6</td><td>7 </td><td>5 </td><td> 6</td><td>10</td><td> 4</td><td>6 </td><td>10</td><td>1 </td></tr>\n",
       "</tbody>\n",
       "</table>\n"
      ],
      "text/latex": [
       "\\begin{tabular}{llllllllll}\n",
       "\t 3  &  6 & 7  & 7  &  2 &  4 &  3 & 7  &  1 & 4 \\\\\n",
       "\t 1  &  9 & 8  & 7  &  2 &  6 & 10 & 9  &  5 & 2 \\\\\n",
       "\t 7  & 10 & 8  & 4  & 10 &  5 &  4 & 8  &  4 & 4 \\\\\n",
       "\t 4  &  3 & 1  & 1  &  3 &  3 &  9 & 7  &  4 & 2 \\\\\n",
       "\t 1  &  8 & 1  & 9  &  9 &  8 &  1 & 3  &  7 & 7 \\\\\n",
       "\t 2  &  6 & 7  & 5  &  6 & 10 &  4 & 6  & 10 & 1 \\\\\n",
       "\\end{tabular}\n"
      ],
      "text/markdown": [
       "\n",
       "| 3  |  6 | 7  | 7  |  2 |  4 |  3 | 7  |  1 | 4  | \n",
       "| 1  |  9 | 8  | 7  |  2 |  6 | 10 | 9  |  5 | 2  | \n",
       "| 7  | 10 | 8  | 4  | 10 |  5 |  4 | 8  |  4 | 4  | \n",
       "| 4  |  3 | 1  | 1  |  3 |  3 |  9 | 7  |  4 | 2  | \n",
       "| 1  |  8 | 1  | 9  |  9 |  8 |  1 | 3  |  7 | 7  | \n",
       "| 2  |  6 | 7  | 5  |  6 | 10 |  4 | 6  | 10 | 1  | \n",
       "\n",
       "\n"
      ],
      "text/plain": [
       "     [,1] [,2] [,3] [,4] [,5] [,6] [,7] [,8] [,9] [,10]\n",
       "[1,] 3     6   7    7     2    4    3   7     1   4    \n",
       "[2,] 1     9   8    7     2    6   10   9     5   2    \n",
       "[3,] 7    10   8    4    10    5    4   8     4   4    \n",
       "[4,] 4     3   1    1     3    3    9   7     4   2    \n",
       "[5,] 1     8   1    9     9    8    1   3     7   7    \n",
       "[6,] 2     6   7    5     6   10    4   6    10   1    "
      ]
     },
     "metadata": {},
     "output_type": "display_data"
    }
   ],
   "source": [
    "aMat"
   ]
  },
  {
   "cell_type": "code",
   "execution_count": 3,
   "metadata": {},
   "outputs": [
    {
     "data": {
      "text/html": [
       "<strong>$dim</strong> = <ol class=list-inline>\n",
       "\t<li>6</li>\n",
       "\t<li>10</li>\n",
       "</ol>\n"
      ],
      "text/latex": [
       "\\textbf{\\$dim} = \\begin{enumerate*}\n",
       "\\item 6\n",
       "\\item 10\n",
       "\\end{enumerate*}\n"
      ],
      "text/markdown": [
       "**$dim** = 1. 6\n",
       "2. 10\n",
       "\n",
       "\n"
      ],
      "text/plain": [
       "$dim\n",
       "[1]  6 10\n"
      ]
     },
     "metadata": {},
     "output_type": "display_data"
    }
   ],
   "source": [
    "attributes(aMat)"
   ]
  },
  {
   "cell_type": "markdown",
   "metadata": {},
   "source": [
    "#### (a) Find the number of entries in each row which are greater than 4."
   ]
  },
  {
   "cell_type": "code",
   "execution_count": 4,
   "metadata": {},
   "outputs": [
    {
     "name": "stdout",
     "output_type": "stream",
     "text": [
      "[1] 4\n",
      "[1] 7\n",
      "[1] 6\n",
      "[1] 2\n",
      "[1] 6\n",
      "[1] 7\n"
     ]
    }
   ],
   "source": [
    "for (i in 1:dim(aMat)[1]) {\n",
    "    print(length(aMat[i, ][aMat[i, ] > 4]))\n",
    "}"
   ]
  },
  {
   "cell_type": "markdown",
   "metadata": {},
   "source": [
    "#### (b) Which rows contain exactly two occurrences of the number seven?"
   ]
  },
  {
   "cell_type": "code",
   "execution_count": 5,
   "metadata": {},
   "outputs": [
    {
     "name": "stdout",
     "output_type": "stream",
     "text": [
      "[1] 5\n"
     ]
    }
   ],
   "source": [
    "for (i in 1:dim(aMat)[1]) {\n",
    "    \n",
    "    if (length(aMat[i, ][aMat[i, ] == 7]) == 2) {\n",
    "        print(i)\n",
    "    }\n",
    "}"
   ]
  },
  {
   "cell_type": "markdown",
   "metadata": {},
   "source": [
    "#### (c) Find those pairs of columns whose total (over both columns) is greater than 75."
   ]
  },
  {
   "cell_type": "code",
   "execution_count": 6,
   "metadata": {},
   "outputs": [],
   "source": [
    "solSum = rep(0, dim(aMat)[2])\n",
    "\n",
    "for (i in 1:dim(aMat)[2]) {\n",
    "    solSum[i] = sum(aMat[, i])\n",
    "}"
   ]
  },
  {
   "cell_type": "code",
   "execution_count": 7,
   "metadata": {},
   "outputs": [
    {
     "data": {
      "text/html": [
       "<ol class=list-inline>\n",
       "\t<li>18</li>\n",
       "\t<li>42</li>\n",
       "\t<li>32</li>\n",
       "\t<li>33</li>\n",
       "\t<li>32</li>\n",
       "\t<li>36</li>\n",
       "\t<li>31</li>\n",
       "\t<li>40</li>\n",
       "\t<li>31</li>\n",
       "\t<li>20</li>\n",
       "</ol>\n"
      ],
      "text/latex": [
       "\\begin{enumerate*}\n",
       "\\item 18\n",
       "\\item 42\n",
       "\\item 32\n",
       "\\item 33\n",
       "\\item 32\n",
       "\\item 36\n",
       "\\item 31\n",
       "\\item 40\n",
       "\\item 31\n",
       "\\item 20\n",
       "\\end{enumerate*}\n"
      ],
      "text/markdown": [
       "1. 18\n",
       "2. 42\n",
       "3. 32\n",
       "4. 33\n",
       "5. 32\n",
       "6. 36\n",
       "7. 31\n",
       "8. 40\n",
       "9. 31\n",
       "10. 20\n",
       "\n",
       "\n"
      ],
      "text/plain": [
       " [1] 18 42 32 33 32 36 31 40 31 20"
      ]
     },
     "metadata": {},
     "output_type": "display_data"
    }
   ],
   "source": [
    "solSum"
   ]
  },
  {
   "cell_type": "code",
   "execution_count": 8,
   "metadata": {},
   "outputs": [
    {
     "name": "stdout",
     "output_type": "stream",
     "text": [
      "[1] 6 2\n",
      "[1] 8 2\n",
      "[1] 8 6\n"
     ]
    }
   ],
   "source": [
    "result = c()\n",
    "\n",
    "for (i in 1:length(solSum)) {\n",
    "    for (j in 1:i) {\n",
    "        if (solSum[i] + solSum[j] > 75 && i != j) {\n",
    "            print(c(i, j))\n",
    "            result = c(result, c(i, j))\n",
    "        }\n",
    "    }\n",
    "}"
   ]
  },
  {
   "cell_type": "code",
   "execution_count": 9,
   "metadata": {},
   "outputs": [],
   "source": [
    "result = matrix(result, ncol = 2)"
   ]
  },
  {
   "cell_type": "code",
   "execution_count": 10,
   "metadata": {},
   "outputs": [
    {
     "data": {
      "text/html": [
       "<table>\n",
       "<tbody>\n",
       "\t<tr><td>6</td><td>2</td></tr>\n",
       "\t<tr><td>2</td><td>8</td></tr>\n",
       "\t<tr><td>8</td><td>6</td></tr>\n",
       "</tbody>\n",
       "</table>\n"
      ],
      "text/latex": [
       "\\begin{tabular}{ll}\n",
       "\t 6 & 2\\\\\n",
       "\t 2 & 8\\\\\n",
       "\t 8 & 6\\\\\n",
       "\\end{tabular}\n"
      ],
      "text/markdown": [
       "\n",
       "| 6 | 2 | \n",
       "| 2 | 8 | \n",
       "| 8 | 6 | \n",
       "\n",
       "\n"
      ],
      "text/plain": [
       "     [,1] [,2]\n",
       "[1,] 6    2   \n",
       "[2,] 2    8   \n",
       "[3,] 8    6   "
      ]
     },
     "metadata": {},
     "output_type": "display_data"
    }
   ],
   "source": [
    "result"
   ]
  },
  {
   "cell_type": "code",
   "execution_count": null,
   "metadata": {},
   "outputs": [],
   "source": []
  }
 ],
 "metadata": {
  "kernelspec": {
   "display_name": "R",
   "language": "R",
   "name": "ir"
  },
  "language_info": {
   "codemirror_mode": "r",
   "file_extension": ".r",
   "mimetype": "text/x-r-source",
   "name": "R",
   "pygments_lexer": "r",
   "version": "3.2.3"
  }
 },
 "nbformat": 4,
 "nbformat_minor": 2
}
